{
 "cells": [
  {
   "cell_type": "code",
   "execution_count": 21,
   "id": "18b308e5-adef-4930-abdd-2a464a0efa3d",
   "metadata": {},
   "outputs": [],
   "source": [
    "from neuralop.models import TFNO\n",
    "import os\n",
    "import sys\n",
    "sys.path.append(os.path.expanduser(\"~\"))\n",
    "from camel_dataloader import get_astro_data,get_astro_data_2D_from_3D\n",
    "import matplotlib.pyplot as plt\n",
    "from matplotlib.colors import LinearSegmentedColormap\n",
    "from matplotlib.ticker import MaxNLocator, FormatStrFormatter\n",
    "import time\n",
    "import torch"
   ]
  },
  {
   "cell_type": "code",
   "execution_count": 7,
   "id": "280c6431-cc8b-4708-8ba5-3830d9d902fd",
   "metadata": {},
   "outputs": [],
   "source": [
    "operator = TFNO(n_modes=(16, 16), hidden_channels=256,\n",
    "                in_channels=1,\n",
    "                out_channels=1,\n",
    "                factorization='tucker',\n",
    "                implementation='factorized',\n",
    "                rank=0.05)"
   ]
  },
  {
   "cell_type": "code",
   "execution_count": 4,
   "id": "5d72eb53-a64f-417f-b94a-4f9f282106d7",
   "metadata": {},
   "outputs": [],
   "source": [
    "cropsize = 256\n",
    "batch_size = 12\n",
    "num_workers = 8\n",
    "   \n",
    "dataset = 'Astrid'\n",
    "dm_25_thick = get_astro_data(\n",
    "        dataset,\n",
    "        num_workers=num_workers,\n",
    "        # resize=cropsize,\n",
    "        batch_size=batch_size,\n",
    "    )"
   ]
  },
  {
   "cell_type": "code",
   "execution_count": 5,
   "id": "31259382-25e4-46f4-b17f-6a7ab7f25872",
   "metadata": {},
   "outputs": [],
   "source": [
    "conditioning, params, target = next(iter(dm_25_thick.test_dataloader()))"
   ]
  },
  {
   "cell_type": "code",
   "execution_count": 14,
   "id": "ce4c263f-2ae6-4eee-a427-40614b4c25b0",
   "metadata": {},
   "outputs": [
    {
     "name": "stdout",
     "output_type": "stream",
     "text": [
      "Execution time for one batch 50 sims: 13.8827 seconds\n"
     ]
    }
   ],
   "source": [
    "start_time = time.time()\n",
    "sample = operator(conditioning)\n",
    "end_time = time.time()\n",
    "execution_time = end_time - start_time\n",
    "print(f\"Execution time for one batch 50 sims: {execution_time:.4f} seconds\")"
   ]
  },
  {
   "cell_type": "code",
   "execution_count": 22,
   "id": "d42d1c03-3c8d-4439-bb12-3cb79cf2d198",
   "metadata": {},
   "outputs": [
    {
     "data": {
      "image/png": "[encoded data removed]",
      "text/plain": [
       "<Figure size 640x480 with 2 Axes>"
      ]
     },
     "metadata": {},
     "output_type": "display_data"
    }
   ],
   "source": [
    "delta_log = torch.log(sample[0]) - torch.log(conditioning[0])\n",
    "\n",
    "colors = [(0, 'blue'), (0.5, 'white'), (1, 'red')]\n",
    "cmap = LinearSegmentedColormap.from_list('custom', colors)\n",
    "vmin = -2.0\n",
    "vmax = 2.0\n",
    "im = plt.imshow(delta_log.detach().numpy().reshape([256,256]),  cmap=cmap, vmin=vmin, vmax=vmax)\n",
    "cbar = plt.colorbar(im, format=FormatStrFormatter('%.1f'))\n",
    "plt.show()"
   ]
  },
  {
   "cell_type": "code",
   "execution_count": null,
   "id": "8ff32268-04c5-4526-8b9b-35fcb4dabe39",
   "metadata": {},
   "outputs": [],
   "source": []
  }
 ],
 "metadata": {
  "kernelspec": {
   "display_name": "myenv",
   "language": "python",
   "name": "env1"
  },
  "language_info": {
   "codemirror_mode": {
    "name": "ipython",
    "version": 3
   },
   "file_extension": ".py",
   "mimetype": "text/x-python",
   "name": "python",
   "nbconvert_exporter": "python",
   "pygments_lexer": "ipython3",
   "version": "3.11.7"
  }
 },
 "nbformat": 4,
 "nbformat_minor": 5
}
