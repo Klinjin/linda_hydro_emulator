{
 "cells": [
  {
   "cell_type": "code",
   "execution_count": 1,
   "id": "9ed43d47-21b0-4565-b87a-99f56aff6142",
   "metadata": {},
   "outputs": [],
   "source": [
    "import numpy as np\n",
    "import torch\n",
    "from torch import Tensor\n",
    "train_dir = '/pscratch/sd/l/lindajin/CAMELS/'"
   ]
  },
  {
   "cell_type": "code",
   "execution_count": 16,
   "id": "d5833eb1-191f-42bb-b937-01e99799e6d9",
   "metadata": {},
   "outputs": [],
   "source": [
    "mass_mtot = np.load(train_dir+\n",
    "                    'Maps_Mtot_IllustrisTNG_LH_z=0.00.npy'\n",
    "                )\n",
    "mass_cdm = np.load(train_dir+\n",
    "                    'Maps_Mtot_Nbody_IllustrisTNG_LH_z=0.00.npy'\n",
    "                )\n",
    "mass_diff = mass_mtot-mass_cdm"
   ]
  },
  {
   "cell_type": "code",
   "execution_count": 17,
   "id": "23426c9a-be58-4f68-a545-1dccf046b087",
   "metadata": {},
   "outputs": [
    {
     "data": {
      "text/plain": [
       "(np.float64(3970384233.6903014),\n",
       " np.float64(412354562900.7393),\n",
       " np.float64(416324947133.79736))"
      ]
     },
     "execution_count": 17,
     "metadata": {},
     "output_type": "execute_result"
    }
   ],
   "source": [
    "# IllustrisTNG mean from maps (15000, 256, 256)\n",
    "mass_cdm.mean(dtype=np.float64), mass_diff.mean(dtype=np.float64), mass_mtot.mean(dtype=np.float64)"
   ]
  },
  {
   "cell_type": "code",
   "execution_count": 11,
   "id": "d240a0e3-dabd-4262-bb92-2c5957ef316b",
   "metadata": {},
   "outputs": [
    {
     "data": {
      "text/plain": [
       "(np.float64(3970384233.6706405),\n",
       " np.float64(412336277406.8454),\n",
       " np.float64(416306661646.7357))"
      ]
     },
     "execution_count": 11,
     "metadata": {},
     "output_type": "execute_result"
    }
   ],
   "source": [
    "# Astrid mean from maps (15000, 256, 256)\n",
    "mass_cdm.mean(dtype=np.float64), mass_diff.mean(dtype=np.float64), mass_mtot.mean(dtype=np.float64)"
   ]
  },
  {
   "cell_type": "code",
   "execution_count": 1,
   "id": "0783c573-c9f4-464a-a9e1-2169ce54bcab",
   "metadata": {},
   "outputs": [
    {
     "data": {
      "text/plain": [
       "412336277413.06506"
      ]
     },
     "execution_count": 1,
     "metadata": {},
     "output_type": "execute_result"
    }
   ],
   "source": [
    "416306661646.7357-3970384233.6706405"
   ]
  },
  {
   "cell_type": "code",
   "execution_count": 2,
   "id": "d13b21e1-264a-4a50-8e65-96de78d9b43f",
   "metadata": {},
   "outputs": [
    {
     "ename": "FileNotFoundError",
     "evalue": "[Errno 2] No such file or directory: '/pscratch/sd/l/lindajin/CAMELS/Grids_Mtot_IllustrisTNG_LH_256_z=0.0.npy'",
     "output_type": "error",
     "traceback": [
      "\u001b[0;31m---------------------------------------------------------------------------\u001b[0m",
      "\u001b[0;31mFileNotFoundError\u001b[0m                         Traceback (most recent call last)",
      "Cell \u001b[0;32mIn[2], line 2\u001b[0m\n\u001b[1;32m      1\u001b[0m \u001b[38;5;66;03m#3D grids\u001b[39;00m\n\u001b[0;32m----> 2\u001b[0m mass_mtot \u001b[38;5;241m=\u001b[39m \u001b[43mnp\u001b[49m\u001b[38;5;241;43m.\u001b[39;49m\u001b[43mload\u001b[49m\u001b[43m(\u001b[49m\u001b[43mtrain_dir\u001b[49m\u001b[38;5;241;43m+\u001b[39;49m\n\u001b[1;32m      3\u001b[0m \u001b[43m                    \u001b[49m\u001b[38;5;124;43m'\u001b[39;49m\u001b[38;5;124;43mGrids_Mtot_IllustrisTNG_LH_256_z=0.0.npy\u001b[39;49m\u001b[38;5;124;43m'\u001b[39;49m\n\u001b[1;32m      4\u001b[0m \u001b[43m                \u001b[49m\u001b[43m)\u001b[49m\n\u001b[1;32m      5\u001b[0m mass_cdm \u001b[38;5;241m=\u001b[39m np\u001b[38;5;241m.\u001b[39mload(train_dir\u001b[38;5;241m+\u001b[39m\n\u001b[1;32m      6\u001b[0m                     \u001b[38;5;124m'\u001b[39m\u001b[38;5;124mGrids_Mtot_Nbody_IllustrisTNG_LH_256_z=0.0.npy\u001b[39m\u001b[38;5;124m'\u001b[39m\n\u001b[1;32m      7\u001b[0m                 )\n",
      "File \u001b[0;32m/global/u1/l/lindajin/virtualenvs/env1/lib/python3.11/site-packages/numpy/lib/_npyio_impl.py:459\u001b[0m, in \u001b[0;36mload\u001b[0;34m(file, mmap_mode, allow_pickle, fix_imports, encoding, max_header_size)\u001b[0m\n\u001b[1;32m    457\u001b[0m     own_fid \u001b[38;5;241m=\u001b[39m \u001b[38;5;28;01mFalse\u001b[39;00m\n\u001b[1;32m    458\u001b[0m \u001b[38;5;28;01melse\u001b[39;00m:\n\u001b[0;32m--> 459\u001b[0m     fid \u001b[38;5;241m=\u001b[39m stack\u001b[38;5;241m.\u001b[39menter_context(\u001b[38;5;28;43mopen\u001b[39;49m\u001b[43m(\u001b[49m\u001b[43mos\u001b[49m\u001b[38;5;241;43m.\u001b[39;49m\u001b[43mfspath\u001b[49m\u001b[43m(\u001b[49m\u001b[43mfile\u001b[49m\u001b[43m)\u001b[49m\u001b[43m,\u001b[49m\u001b[43m \u001b[49m\u001b[38;5;124;43m\"\u001b[39;49m\u001b[38;5;124;43mrb\u001b[39;49m\u001b[38;5;124;43m\"\u001b[39;49m\u001b[43m)\u001b[49m)\n\u001b[1;32m    460\u001b[0m     own_fid \u001b[38;5;241m=\u001b[39m \u001b[38;5;28;01mTrue\u001b[39;00m\n\u001b[1;32m    462\u001b[0m \u001b[38;5;66;03m# Code to distinguish from NumPy binary files and pickles.\u001b[39;00m\n",
      "\u001b[0;31mFileNotFoundError\u001b[0m: [Errno 2] No such file or directory: '/pscratch/sd/l/lindajin/CAMELS/Grids_Mtot_IllustrisTNG_LH_256_z=0.0.npy'"
     ]
    }
   ],
   "source": [
    "#3D grids\n",
    "mass_mtot = np.load(train_dir+\n",
    "                    'Grids_Mtot_IllustrisTNG_LH_256_z=0.0.npy'\n",
    "                )\n",
    "mass_cdm = np.load(train_dir+\n",
    "                    'Grids_Mtot_Nbody_IllustrisTNG_LH_256_z=0.0.npy'\n",
    "                )"
   ]
  },
  {
   "cell_type": "code",
   "execution_count": 9,
   "id": "95a4e5df-1b5e-4287-a5e9-f1736148b49f",
   "metadata": {},
   "outputs": [
    {
     "data": {
      "text/plain": [
       "((1000, 256, 256, 256), np.float64(83261329988.64088))"
      ]
     },
     "execution_count": 9,
     "metadata": {},
     "output_type": "execute_result"
    }
   ],
   "source": [
    "mass_mtot.shape,  mass_mtot.mean(dtype=np.float64)"
   ]
  },
  {
   "cell_type": "code",
   "execution_count": 10,
   "id": "a0986d28-32e7-473d-ad17-a557d8967850",
   "metadata": {},
   "outputs": [],
   "source": [
    "mass_diff = mass_mtot-mass_cdm"
   ]
  },
  {
   "cell_type": "code",
   "execution_count": 11,
   "id": "79d276f2-82d1-4798-8e38-d4072b822b2d",
   "metadata": {},
   "outputs": [
    {
     "data": {
      "text/plain": [
       "(np.float64(83264985090.15042),\n",
       " np.float64(-3655101.522224613),\n",
       " np.float64(83261329988.64088))"
      ]
     },
     "execution_count": 11,
     "metadata": {},
     "output_type": "execute_result"
    }
   ],
   "source": [
    "# Astrid mean from 3D grids (15000, 256, 256)\n",
    "mass_cdm.mean(dtype=np.float64), mass_diff.mean(dtype=np.float64), mass_mtot.mean(dtype=np.float64)"
   ]
  },
  {
   "cell_type": "code",
   "execution_count": 16,
   "id": "36107cb5-e9ae-4f1f-a6c2-896694c9721d",
   "metadata": {},
   "outputs": [
    {
     "data": {
      "text/plain": [
       "1.0000438991487408"
      ]
     },
     "execution_count": 16,
     "metadata": {},
     "output_type": "execute_result"
    }
   ],
   "source": [
    "83264985090.15042/83261329988.64088 #mcdm/mtot"
   ]
  },
  {
   "cell_type": "code",
   "execution_count": 15,
   "id": "66f18c0d-9659-4687-b717-26f97f503845",
   "metadata": {},
   "outputs": [
    {
     "data": {
      "text/plain": [
       "0.04768581326063743"
      ]
     },
     "execution_count": 15,
     "metadata": {},
     "output_type": "execute_result"
    }
   ],
   "source": [
    "3970384233.6706405/83261329988.64088"
   ]
  },
  {
   "cell_type": "code",
   "execution_count": null,
   "id": "75dc344e-ecbf-455b-899f-a2478dbf0f87",
   "metadata": {},
   "outputs": [],
   "source": []
  }
 ],
 "metadata": {
  "kernelspec": {
   "display_name": "myenv",
   "language": "python",
   "name": "env1"
  },
  "language_info": {
   "codemirror_mode": {
    "name": "ipython",
    "version": 3
   },
   "file_extension": ".py",
   "mimetype": "text/x-python",
   "name": "python",
   "nbconvert_exporter": "python",
   "pygments_lexer": "ipython3",
   "version": "3.11.7"
  }
 },
 "nbformat": 4,
 "nbformat_minor": 5
}
